{
 "cells": [
  {
   "cell_type": "code",
   "execution_count": 1,
   "metadata": {
    "collapsed": false
   },
   "outputs": [
    {
     "name": "stderr",
     "output_type": "stream",
     "text": [
      "Using TensorFlow backend.\n"
     ]
    }
   ],
   "source": [
    "import keras\n",
    "import tensorflow\n",
    "import numpy as np\n",
    "import pandas as pd\n",
    "import load_data\n",
    "import SimpleITK\n",
    "np.random.seed(42) #Make sure results can be reproduced\n",
    "from keras.models import Sequential #Feed forward\n",
    "from keras.layers import Dense, Dropout, Flatten, Activation\n",
    "from keras.layers import Convolution3D, MaxPooling3D\n",
    "from keras.utils import np_utils\n",
    "\n",
    "\n",
    "labels = pd.read_csv('stage1_labels.csv') #load the CSV containing the labels\n",
    "patient_id = '0a0c32c9e08cc2ea76a71649de56be6d' #Our selected patient ID\n",
    "patient1 = load_data.get_lungs_arr(patient_id, 'patient_image/') #Use preprocessing code to obtain 64x64x64 3D image for our patient"
   ]
  },
  {
   "cell_type": "code",
   "execution_count": 2,
   "metadata": {
    "collapsed": false
   },
   "outputs": [],
   "source": [
    "X_train = patient1.reshape(1,64,64,64,1)\n",
    "# Can be interpreted this way (number of samples, number of channels (1 for b/w 3 for colour), depth, width height)\n",
    "\n",
    "y_train = np_utils.to_categorical(labels[labels['id']==patient_id]['cancer'].values, 2)\n",
    "# Change labels to array. E.g. instead of having 0 or 1 we have [1,0] or [0,1] where the index of '1' is \n",
    "# the true label\n"
   ]
  },
  {
   "cell_type": "code",
   "execution_count": 6,
   "metadata": {
    "collapsed": false
   },
   "outputs": [],
   "source": [
    "model = Sequential() \n",
    "# Feed forward 1 by 1 hence sequential. Other architectures such as LSTM would be different"
   ]
  },
  {
   "cell_type": "code",
   "execution_count": 7,
   "metadata": {
    "collapsed": false
   },
   "outputs": [
    {
     "data": {
      "text/plain": [
       "(None, 55, 55, 55, 8)"
      ]
     },
     "execution_count": 7,
     "metadata": {},
     "output_type": "execute_result"
    }
   ],
   "source": [
    "model.add(Convolution3D(8,10,10,10, activation='relu',input_shape=(64,64,64,1),dim_ordering='tf'))\n",
    "model.output_shape\n",
    "# Add layers to model. In this case our first layer is a 3D convolution layer. \n",
    "# The first 4 numbers represents (number of filters, filter d,w,h). \n",
    "# The activation is the function used to make the network non-linear. \n",
    "# Since this is the first layer of the model, we will need an input_shape parameter too. \n",
    "# dim_ordering is just the parameter telling the model that we use TensorFlow convention for the dimesion ordering \n",
    "# i.e. d,w,h,channels"
   ]
  },
  {
   "cell_type": "code",
   "execution_count": 8,
   "metadata": {
    "collapsed": false
   },
   "outputs": [
    {
     "name": "stdout",
     "output_type": "stream",
     "text": [
      "(None, 46, 46, 46, 8)\n",
      "(None, 23, 23, 23, 8)\n",
      "(None, 19, 19, 19, 8)\n",
      "(None, 9, 9, 9, 8)\n",
      "(None, 9, 9, 9, 8)\n",
      "(None, 5832)\n",
      "(None, 128)\n",
      "(None, 128)\n",
      "(None, 2)\n"
     ]
    }
   ],
   "source": [
    "model.add(Convolution3D(8,10,10,10,activation='relu',dim_ordering='tf'))\n",
    "print model.output_shape\n",
    "model.add(MaxPooling3D(pool_size=(2,2,2))) # Reduce number of parameters\n",
    "print model.output_shape\n",
    "model.add(Convolution3D(8,5,5,5,activation='relu',dim_ordering='tf'))\n",
    "print model.output_shape\n",
    "model.add(MaxPooling3D(pool_size=(2,2,2))) # Reduce number of parameters\n",
    "print model.output_shape\n",
    "model.add(Dropout(0.25)) # Regularised the model to prevent overfit\n",
    "print model.output_shape\n",
    "# Now we have 2x conv + 2 maxpool + 1 dropout\n",
    "model.add(Flatten()) #Must flattern to pass into dense\n",
    "print model.output_shape\n",
    "model.add(Dense(128, activation='relu')) # \n",
    "print model.output_shape\n",
    "model.add(Dropout(0.5))\n",
    "print model.output_shape\n",
    "model.add(Dense(2))\n",
    "model.add(Activation('softmax')) # 2 ouput matches binary classification criteria\n",
    "print model.output_shape"
   ]
  },
  {
   "cell_type": "code",
   "execution_count": 9,
   "metadata": {
    "collapsed": true
   },
   "outputs": [],
   "source": [
    "model.compile(loss='categorical_crossentropy', \n",
    "              optimizer='adam', \n",
    "              metrics=['accuracy'])"
   ]
  },
  {
   "cell_type": "code",
   "execution_count": null,
   "metadata": {
    "collapsed": false
   },
   "outputs": [
    {
     "name": "stdout",
     "output_type": "stream",
     "text": [
      "Epoch 1/10\n"
     ]
    }
   ],
   "source": [
    "model.fit(X_train,y_train)"
   ]
  }
 ],
 "metadata": {
  "kernelspec": {
   "display_name": "Python [conda root]",
   "language": "python",
   "name": "conda-root-py"
  },
  "language_info": {
   "codemirror_mode": {
    "name": "ipython",
    "version": 2
   },
   "file_extension": ".py",
   "mimetype": "text/x-python",
   "name": "python",
   "nbconvert_exporter": "python",
   "pygments_lexer": "ipython2",
   "version": "2.7.12"
  }
 },
 "nbformat": 4,
 "nbformat_minor": 1
}
